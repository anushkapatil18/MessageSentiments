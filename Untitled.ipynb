{
 "cells": [
  {
   "cell_type": "code",
   "execution_count": 15,
   "id": "0859030d",
   "metadata": {},
   "outputs": [
    {
     "name": "stdout",
     "output_type": "stream",
     "text": [
      "                              message sentiment\n",
      "0          I really enjoyed the movie  positive\n",
      "1               The food was terrible  negative\n",
      "2  I'm not sure how I feel about this   neutral\n",
      "3           The service was excellent  positive\n",
      "4              I had a bad experience  negative\n",
      "\n",
      "neutral     259\n",
      "positive    178\n",
      "negative    147\n",
      "Name: sentiment, dtype: int64\n"
     ]
    }
   ],
   "source": [
    "import pandas as pd\n",
    "\n",
    "# Load the dataset into a DataFrame\n",
    "df = pd.read_csv('chat_dataset.csv')\n",
    "\n",
    "# Explore the dataset\n",
    "print(df.head())\n",
    "print()\n",
    "print(df['sentiment'].value_counts())"
   ]
  },
  {
   "cell_type": "code",
   "execution_count": 18,
   "id": "c7745080",
   "metadata": {},
   "outputs": [
    {
     "name": "stdout",
     "output_type": "stream",
     "text": [
      "                                               message sentiment  \\\n",
      "0                           I really enjoyed the movie  positive   \n",
      "1                                The food was terrible  negative   \n",
      "2                   I'm not sure how I feel about this   neutral   \n",
      "3                            The service was excellent  positive   \n",
      "4                               I had a bad experience  negative   \n",
      "..                                                 ...       ...   \n",
      "579  I have to cancel my vacation plans because I c...  negative   \n",
      "580  My computer crashed and I lost all my importan...  negative   \n",
      "581  I got into a car accident and my car is totale...  negative   \n",
      "582  I have a cold and can't stop coughing. it's re...  negative   \n",
      "583  I just found out my ex is dating someone new. ...  negative   \n",
      "\n",
      "                                         clean_message  \n",
      "0                           i really enjoyed the movie  \n",
      "1                                the food was terrible  \n",
      "2                    im not sure how i feel about this  \n",
      "3                            the service was excellent  \n",
      "4                               i had a bad experience  \n",
      "..                                                 ...  \n",
      "579  i have to cancel my vacation plans because i c...  \n",
      "580  my computer crashed and i lost all my importan...  \n",
      "581    i got into a car accident and my car is totaled  \n",
      "582  i have a cold and cant stop coughing its reall...  \n",
      "583  i just found out my ex is dating someone new i...  \n",
      "\n",
      "[584 rows x 3 columns]\n"
     ]
    }
   ],
   "source": [
    "import re\n",
    "\n",
    "# Text preprocessing function\n",
    "def preprocess_text(text):\n",
    "    # Remove URLs\n",
    "    text = re.sub(r'http\\S+|www\\S+|https\\S+', '', text)\n",
    "    \n",
    "    # Remove special characters and numbers\n",
    "    text = re.sub(r'[^A-Za-z\\s]', '', text)\n",
    "    \n",
    "    # Convert to lowercase\n",
    "    text = text.lower()\n",
    "    \n",
    "    # Remove extra whitespaces\n",
    "    text = re.sub('\\s+', ' ', text).strip()\n",
    "    \n",
    "    return text\n",
    "\n",
    "# Apply text preprocessing to the 'message' column\n",
    "df['clean_message'] = df['message'].apply(preprocess_text)\n",
    "print(df)"
   ]
  },
  {
   "cell_type": "code",
   "execution_count": 19,
   "id": "e1538d61",
   "metadata": {},
   "outputs": [],
   "source": [
    "from sklearn.feature_extraction.text import TfidfVectorizer\n",
    "\n",
    "# Create a TF-IDF vectorizer\n",
    "vectorizer = TfidfVectorizer()\n",
    "\n",
    "# Transform the preprocessed text data into numerical features\n",
    "X = vectorizer.fit_transform(df['clean_message'])\n",
    "\n",
    "# Convert the sentiment labels into numerical values\n",
    "y = df['sentiment'].map({'positive': 1, 'negative': -1, 'neutral': 0})"
   ]
  },
  {
   "cell_type": "code",
   "execution_count": 20,
   "id": "03aa8327",
   "metadata": {},
   "outputs": [],
   "source": [
    "from sklearn.model_selection import train_test_split\n",
    "\n",
    "# Split the dataset into training and testing sets\n",
    "X_train, X_test, y_train, y_test = train_test_split(X, y, test_size=0.2, random_state=42)"
   ]
  },
  {
   "cell_type": "code",
   "execution_count": 21,
   "id": "d4aed182",
   "metadata": {},
   "outputs": [
    {
     "name": "stdout",
     "output_type": "stream",
     "text": [
      "Accuracy: 0.8632478632478633\n",
      "Precision: 0.8790823211875844\n",
      "Recall: 0.8632478632478633\n",
      "F1-Score: 0.858254597955964\n"
     ]
    }
   ],
   "source": [
    "from sklearn.svm import SVC\n",
    "from sklearn.metrics import accuracy_score, precision_score, recall_score, f1_score\n",
    "\n",
    "# Initialize and train the SVM model\n",
    "svm = SVC()\n",
    "svm.fit(X_train, y_train)\n",
    "\n",
    "# Make predictions on the test set\n",
    "y_pred = svm.predict(X_test)\n",
    "\n",
    "# Evaluate the model's performance\n",
    "accuracy = accuracy_score(y_test, y_pred)\n",
    "precision = precision_score(y_test, y_pred, average='weighted')\n",
    "recall = recall_score(y_test, y_pred, average='weighted')\n",
    "f1 = f1_score(y_test, y_pred, average='weighted')\n",
    "\n",
    "print(\"Accuracy:\", accuracy)\n",
    "print(\"Precision:\", precision)\n",
    "print(\"Recall:\", recall)\n",
    "print(\"F1-Score:\", f1)"
   ]
  },
  {
   "cell_type": "code",
   "execution_count": 22,
   "id": "ced09474",
   "metadata": {},
   "outputs": [
    {
     "name": "stdout",
     "output_type": "stream",
     "text": [
      "Best Hyperparameters: {'C': 100, 'gamma': 0.1}\n"
     ]
    }
   ],
   "source": [
    "from sklearn.model_selection import GridSearchCV\n",
    "\n",
    "# Define the parameter grid for grid search\n",
    "param_grid = {'C': [1, 10, 100], 'gamma': [0.1, 0.01, 0.001]}\n",
    "\n",
    "# Perform grid search for hyperparameter tuning\n",
    "grid_search = GridSearchCV(SVC(), param_grid, cv=5)\n",
    "grid_search.fit(X_train, y_train)\n",
    "\n",
    "# Get the best hyperparameters\n",
    "best_params = grid_search.best_params_\n",
    "print(\"Best Hyperparameters:\", best_params)"
   ]
  },
  {
   "cell_type": "code",
   "execution_count": 30,
   "id": "7ea35052",
   "metadata": {},
   "outputs": [
    {
     "name": "stdout",
     "output_type": "stream",
     "text": [
      "Message: I love this product!\n",
      "Sentiment: 1\n",
      "\n",
      "Message: This is horrible\n",
      "Sentiment: -1\n",
      "\n",
      "Message: It seems okay.\n",
      "Sentiment: 0\n",
      "\n"
     ]
    }
   ],
   "source": [
    "# Predict sentiment for new chat messages\n",
    "new_messages = ['I love this product!', 'This is horrible', 'It seems okay.']\n",
    "preprocessed_new_messages = [preprocess_text(msg) for msg in new_messages]\n",
    "X_new = vectorizer.transform(preprocessed_new_messages)\n",
    "sentiment_predictions = svm.predict(X_new)\n",
    "\n",
    "for message, sentiment in zip(new_messages, sentiment_predictions):\n",
    "    print(\"Message:\", message)\n",
    "    print(\"Sentiment:\", sentiment)\n",
    "    print()"
   ]
  },
  {
   "cell_type": "code",
   "execution_count": null,
   "id": "a3bf5416",
   "metadata": {},
   "outputs": [],
   "source": []
  }
 ],
 "metadata": {
  "kernelspec": {
   "display_name": "Python 3 (ipykernel)",
   "language": "python",
   "name": "python3"
  },
  "language_info": {
   "codemirror_mode": {
    "name": "ipython",
    "version": 3
   },
   "file_extension": ".py",
   "mimetype": "text/x-python",
   "name": "python",
   "nbconvert_exporter": "python",
   "pygments_lexer": "ipython3",
   "version": "3.10.9"
  }
 },
 "nbformat": 4,
 "nbformat_minor": 5
}
